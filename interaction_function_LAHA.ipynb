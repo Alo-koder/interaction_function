{
 "cells": [
  {
   "cell_type": "code",
   "execution_count": null,
   "metadata": {},
   "outputs": [],
   "source": [
    "import pandas as pd\n",
    "import numpy as np\n",
    "from matplotlib import pyplot as plt\n",
    "from scipy import signal, ndimage\n",
    "from scipy.optimize import curve_fit\n",
    "\n",
    "from config import props, filenames"
   ]
  },
  {
   "cell_type": "code",
   "execution_count": null,
   "metadata": {},
   "outputs": [],
   "source": [
    "current = pd.read_csv('/run/media/alo/0CD4823BD48226D4/Szewczyk/Data/2024-03-21/example_period.csv')\n",
    "prc = pd.read_csv(filenames.data+'prc.csv')\n",
    "prc['norm_response'] = prc.response/props.pert_strength\n",
    "current.phase = current.phase/2\n",
    "current_copy = current.copy()\n",
    "current_copy.phase = current_copy.phase+0.5\n",
    "current_copy.t = current_copy.t+current_copy.t.iloc[-1]\n",
    "current = pd.concat([current, current_copy])"
   ]
  },
  {
   "cell_type": "code",
   "execution_count": null,
   "metadata": {},
   "outputs": [],
   "source": [
    "def gaussian(x, h, m, s):\n",
    "    d = np.minimum(np.abs(x-m), 1-np.abs(x-m))\n",
    "    return h*np.exp(-d**2/(2*s))\n",
    "\n",
    "def curve(x, h1, m1, s1, h2, m2, s2):\n",
    "    return gaussian(x, h1, m1, s1) + gaussian(x, h2, m2, s2)"
   ]
  },
  {
   "cell_type": "code",
   "execution_count": null,
   "metadata": {},
   "outputs": [],
   "source": [
    "initial_guess = (0.035, 0.18, 0.006, -0.1, 0.03, 0.002)\n",
    "plt.figure()\n",
    "plt.plot(prc.phase, curve(prc.phase, *initial_guess))\n",
    "plt.scatter(prc.phase, prc.norm_response, marker='+', c='r')"
   ]
  },
  {
   "cell_type": "code",
   "execution_count": null,
   "metadata": {},
   "outputs": [],
   "source": [
    "popt, popc = curve_fit(curve, prc.phase, prc.norm_response, initial_guess)"
   ]
  },
  {
   "cell_type": "code",
   "execution_count": null,
   "metadata": {},
   "outputs": [],
   "source": [
    "def fitted_prc(x):\n",
    "    return curve(x%1, *popt)"
   ]
  },
  {
   "cell_type": "code",
   "execution_count": null,
   "metadata": {},
   "outputs": [],
   "source": [
    "plt.scatter(prc.phase, prc.norm_response, marker='+', c='r')\n",
    "plt.plot(np.linspace(0, 1, 1000), curve(np.linspace(0, 1, 1000), *popt), zorder=10)"
   ]
  },
  {
   "cell_type": "code",
   "execution_count": null,
   "metadata": {},
   "outputs": [],
   "source": [
    "fig, ax1 = plt.subplots()\n",
    "ax2 = ax1.twinx()\n",
    "ax1.plot(current.phase, fitted_prc(current.phase))\n",
    "ax1.set_ylabel('LA prc (blue)')\n",
    "ax2.plot(current.phase, current.I, c='orange')\n",
    "ax2.set_ylabel('HA current (orange)')\n",
    "plt.show()"
   ]
  },
  {
   "cell_type": "code",
   "execution_count": null,
   "metadata": {},
   "outputs": [],
   "source": [
    "effect = np.zeros(1000)\n",
    "for i, d in enumerate(np.arange(-0.5, 0.5, 0.001)):\n",
    "    effect[i] = np.sum(-fitted_prc(np.array(current.phase+d)%1) * current.I)/1000"
   ]
  },
  {
   "cell_type": "code",
   "execution_count": null,
   "metadata": {},
   "outputs": [],
   "source": [
    "plt.plot(np.arange(-0.5, 0.5, 0.001), effect)\n",
    "plt.title(\"H interaction function (centered)\")\n",
    "plt.xlabel(\"phase\")\n",
    "plt.ylabel(\"phase change per second\")"
   ]
  },
  {
   "cell_type": "code",
   "execution_count": null,
   "metadata": {},
   "outputs": [],
   "source": [
    "plt.plot(np.arange(-0.5, 0.5, 0.001), effect + effect[::-1], label=\"even\")\n",
    "plt.plot(np.arange(-0.5, 0.5, 0.001), effect-effect[::-1], label=\"odd\")\n",
    "plt.title(\"H interaction function\")\n",
    "plt.xlabel(\"phase\")\n",
    "plt.ylabel(\"phase change per second\")\n",
    "plt.legend()"
   ]
  }
 ],
 "metadata": {
  "kernelspec": {
   "display_name": "Python 3",
   "language": "python",
   "name": "python3"
  },
  "language_info": {
   "codemirror_mode": {
    "name": "ipython",
    "version": 3
   },
   "file_extension": ".py",
   "mimetype": "text/x-python",
   "name": "python",
   "nbconvert_exporter": "python",
   "pygments_lexer": "ipython3"
  }
 },
 "nbformat": 4,
 "nbformat_minor": 2
}
