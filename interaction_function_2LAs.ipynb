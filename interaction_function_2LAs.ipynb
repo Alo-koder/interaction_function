{
 "cells": [
  {
   "cell_type": "code",
   "execution_count": null,
   "metadata": {},
   "outputs": [],
   "source": [
    "import pandas as pd\n",
    "import numpy as np\n",
    "from matplotlib import pyplot as plt\n",
    "from scipy import signal, ndimage\n",
    "from scipy.optimize import curve_fit"
   ]
  },
  {
   "cell_type": "code",
   "execution_count": null,
   "metadata": {},
   "outputs": [],
   "source": [
    "pert_strength = 0.3\n",
    "dir_name = 'T:/Team/Szewczyk/Data/2024-02-22/'"
   ]
  },
  {
   "cell_type": "code",
   "execution_count": null,
   "metadata": {},
   "outputs": [],
   "source": [
    "current = pd.read_csv(dir_name+'example_period.csv')\n",
    "prc = pd.read_csv(dir_name+'prc.csv')\n",
    "prc['norm_response'] = prc.response/pert_strength"
   ]
  },
  {
   "cell_type": "code",
   "execution_count": null,
   "metadata": {},
   "outputs": [],
   "source": [
    "def gaussian(x, h, m, s):\n",
    "    d = np.minimum(np.abs(x-m), 1-np.abs(x-m))\n",
    "    return h*np.exp(-d**2/(2*s))\n",
    "\n",
    "def curve(x, h1, m1, s1, h2, m2, s2):\n",
    "    return gaussian(x, h1, m1, s1) + gaussian(x, h2, m2, s2)"
   ]
  },
  {
   "cell_type": "code",
   "execution_count": null,
   "metadata": {},
   "outputs": [],
   "source": [
    "initial_guess = (0.035, 0.18, 0.006, -0.1, 0.03, 0.002)\n",
    "plt.figure()\n",
    "plt.plot(prc.phase, curve(prc.phase, *initial_guess))\n",
    "plt.scatter(prc.phase, prc.norm_response, marker='+', c='r')"
   ]
  },
  {
   "cell_type": "code",
   "execution_count": null,
   "metadata": {},
   "outputs": [],
   "source": [
    "popt, popc = curve_fit(curve, prc.phase, prc.norm_response, initial_guess)"
   ]
  },
  {
   "cell_type": "code",
   "execution_count": null,
   "metadata": {},
   "outputs": [],
   "source": [
    "def fitted_prc(x):\n",
    "    return curve(x%1, *popt)"
   ]
  },
  {
   "cell_type": "code",
   "execution_count": null,
   "metadata": {},
   "outputs": [],
   "source": [
    "plt.scatter(prc.phase, prc.norm_response, marker='+', c='r')\n",
    "plt.plot(np.linspace(0, 1, 1000), curve(np.linspace(0, 1, 1000), *popt), zorder=10)"
   ]
  },
  {
   "cell_type": "code",
   "execution_count": null,
   "metadata": {},
   "outputs": [],
   "source": [
    "plt.plot(current.phase, current.I)"
   ]
  },
  {
   "cell_type": "code",
   "execution_count": null,
   "metadata": {},
   "outputs": [],
   "source": [
    "fig, ax1 = plt.subplots()\n",
    "ax2 = ax1.twinx()\n",
    "ax1.plot(current.phase, fitted_prc(current.phase))\n",
    "ax1.set_ylabel('prc (blue)')\n",
    "ax2.plot(current.phase, current.emsi_corrected, c='orange')\n",
    "ax2.set_ylabel('emsi (orange)')\n",
    "plt.show()"
   ]
  },
  {
   "cell_type": "code",
   "execution_count": null,
   "metadata": {},
   "outputs": [],
   "source": [
    "effect = np.zeros_like(current.phase)\n",
    "for i, d in enumerate(current.phase):\n",
    "    effect[i] = np.sum(-fitted_prc(np.array(current.phase+d)%1) * (current.I-np.roll(current.I.to_numpy(), i)))/100"
   ]
  },
  {
   "cell_type": "code",
   "execution_count": null,
   "metadata": {},
   "outputs": [],
   "source": [
    "def rolled_I(phi):\n",
    "    return np.interp((current.phase+phi)%1, current.phase, current.I)"
   ]
  },
  {
   "cell_type": "code",
   "execution_count": null,
   "metadata": {},
   "outputs": [],
   "source": [
    "def F(delta_phi):\n",
    "    return np.sum((rolled_I(delta_phi)-current.I)*fitted_prc(current.phase))/current.phase.size"
   ]
  },
  {
   "cell_type": "code",
   "execution_count": null,
   "metadata": {},
   "outputs": [],
   "source": [
    "effect = np.empty_like(current.phase)\n",
    "for i, delta_phi in enumerate(current.phase):\n",
    "    effect[i] = F(delta_phi)"
   ]
  },
  {
   "cell_type": "code",
   "execution_count": null,
   "metadata": {},
   "outputs": [],
   "source": [
    "current.t.iloc[-1]"
   ]
  },
  {
   "cell_type": "code",
   "execution_count": null,
   "metadata": {},
   "outputs": [],
   "source": [
    "plt.plot(current.phase, effect*current.t.iloc[-1])"
   ]
  },
  {
   "cell_type": "code",
   "execution_count": null,
   "metadata": {},
   "outputs": [],
   "source": [
    "effect_pd = pd.DataFrame({\n",
    "    'delta_phi'     : current.phase,\n",
    "    'effect'        : effect*current.t.iloc[-1]\n",
    "})\n",
    "effect_pd.to_csv('effect_2LAs.csv')"
   ]
  },
  {
   "cell_type": "code",
   "execution_count": null,
   "metadata": {},
   "outputs": [],
   "source": [
    "plt.plot(current.phase, effect + effect[::-1])\n",
    "plt.plot(current.phase, effect-effect[::-1])"
   ]
  }
 ],
 "metadata": {
  "kernelspec": {
   "display_name": "Python 3",
   "language": "python",
   "name": "python3"
  },
  "language_info": {
   "codemirror_mode": {
    "name": "ipython",
    "version": 3
   },
   "file_extension": ".py",
   "mimetype": "text/x-python",
   "name": "python",
   "nbconvert_exporter": "python",
   "pygments_lexer": "ipython3"
  }
 },
 "nbformat": 4,
 "nbformat_minor": 2
}
