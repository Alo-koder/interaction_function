{
 "cells": [
  {
   "cell_type": "code",
   "execution_count": null,
   "metadata": {},
   "outputs": [],
   "source": [
    "from scipy.io import loadmat\n",
    "import pandas as pd\n",
    "import numpy as np\n",
    "from matplotlib import pyplot as plt\n",
    "import matplotlib as mpl\n",
    "import os"
   ]
  },
  {
   "cell_type": "code",
   "execution_count": null,
   "metadata": {},
   "outputs": [],
   "source": [
    "%matplotlib inline"
   ]
  },
  {
   "cell_type": "code",
   "execution_count": null,
   "metadata": {},
   "outputs": [],
   "source": [
    "dat_dirname = 'T:/Team/Szewczyk/Juliane/Alek J053'"
   ]
  },
  {
   "cell_type": "code",
   "execution_count": null,
   "metadata": {},
   "outputs": [],
   "source": [
    "filenames = [dat_dirname+'/'+x for x in os.listdir(dat_dirname) if x[-3:] == 'mat']"
   ]
  },
  {
   "cell_type": "code",
   "execution_count": null,
   "metadata": {},
   "outputs": [],
   "source": [
    "correct = []\n",
    "emsi_export = []"
   ]
  },
  {
   "cell_type": "code",
   "execution_count": null,
   "metadata": {},
   "outputs": [],
   "source": [
    "for filename in filenames:\n",
    "    matrix = loadmat(filename)\n",
    "    frames = matrix['videoframes'].swapaxes(0,2)\n",
    "    x1min = 50\n",
    "    x1max = 230\n",
    "    y1min = 60\n",
    "    y1max = 200\n",
    "    x2min = 45\n",
    "    x2max = 225\n",
    "    y2min = 430\n",
    "    y2max = 570\n",
    "    # fig, ax = plt.subplots()\n",
    "    # ax.imshow(frames[100], vmin=-10, vmax=+10)\n",
    "    # el1_rect = mpl.patches.Rectangle((x1min, y1min), x1max-x1min, y1max-y1min, fc='none', color='r')\n",
    "    # el2_rect = mpl.patches.Rectangle((x2min, y2min), x2max-x2min, y2max-y2min, fc='none', color='r')\n",
    "    # ax.add_patch(el1_rect)\n",
    "    # ax.add_patch(el2_rect)\n",
    "    # plt.show()\n",
    "    # if input('okay? Y/n') == 'n':\n",
    "    #     correct.append(filename)\n",
    "    #     continue\n",
    "    # plt.clf()\n",
    "    el1 = frames[:,y1min:y1max+1,x1min:x1max+1]\n",
    "    el2 = frames[:,y2min:y2max+1,x2min:x2max+1]\n",
    "    emsi1 = np.mean(el1, axis=(1,2))\n",
    "    emsi2 = np.mean(el2, axis=(1,2))\n",
    "    emsi_export.append((emsi1, emsi2))"
   ]
  },
  {
   "cell_type": "code",
   "execution_count": null,
   "metadata": {},
   "outputs": [],
   "source": [
    "emsi_export[9][1].shape"
   ]
  },
  {
   "cell_type": "code",
   "execution_count": null,
   "metadata": {},
   "outputs": [],
   "source": [
    "data_dict = {'name' : [x.split('/')[-1].split('.')[0] for x in filenames],\n",
    "             'el1'  : [x[0] for x in emsi_export],\n",
    "             'el2'  : [x[1] for x in emsi_export]}\n",
    "data = pd.DataFrame(data_dict)"
   ]
  },
  {
   "cell_type": "code",
   "execution_count": null,
   "metadata": {},
   "outputs": [],
   "source": [
    "for i, name in enumerate(filenames):\n",
    "    print(i, name)"
   ]
  },
  {
   "cell_type": "code",
   "execution_count": null,
   "metadata": {},
   "outputs": [],
   "source": [
    "data_sorted = data.iloc[[0,1,2,3,5,6,7,10,8,9,11,15,12,13,14]]"
   ]
  },
  {
   "cell_type": "code",
   "execution_count": null,
   "metadata": {},
   "outputs": [],
   "source": [
    "data_sorted.name"
   ]
  },
  {
   "cell_type": "code",
   "execution_count": null,
   "metadata": {},
   "outputs": [],
   "source": [
    "data_sorted.reset_index(inplace=True)"
   ]
  },
  {
   "cell_type": "code",
   "execution_count": null,
   "metadata": {},
   "outputs": [],
   "source": [
    "HALA1 = np.hstack(data_sorted.el1.iloc[0:6].values)\n",
    "HALA2 = np.hstack(data_sorted.el2.iloc[0:6].values)\n",
    "HAHA1 = np.hstack(data_sorted.el1.iloc[6:10].values)\n",
    "HAHA2 = np.hstack(data_sorted.el2.iloc[6:10].values)\n",
    "LALA1 = np.hstack(data_sorted.el1.iloc[10:15].values)\n",
    "LALA2 = np.hstack(data_sorted.el2.iloc[10:15].values)"
   ]
  },
  {
   "cell_type": "code",
   "execution_count": null,
   "metadata": {},
   "outputs": [],
   "source": [
    "for name, el1, el2 in (('HALA', HALA1, HALA2), ('HAHA', HAHA1, HAHA2), ('LALA', LALA1, LALA2)):\n",
    "    save_dict = {\n",
    "        \"t\"     : np.arange(el1.size),\n",
    "        \"el1\"   : el1,\n",
    "        \"el2\"   : el2,\n",
    "    }\n",
    "    save_df = pd.DataFrame(save_dict)\n",
    "    save_df.to_csv(f\"{name}.csv\", index=False)"
   ]
  },
  {
   "cell_type": "code",
   "execution_count": null,
   "metadata": {},
   "outputs": [],
   "source": [
    "plt.plot(HALA1)\n",
    "plt.plot(HALA2+4)"
   ]
  },
  {
   "cell_type": "code",
   "execution_count": null,
   "metadata": {},
   "outputs": [],
   "source": [
    "%matplotlib qt"
   ]
  },
  {
   "cell_type": "code",
   "execution_count": null,
   "metadata": {},
   "outputs": [],
   "source": [
    "from matplotlib.animation import FuncAnimation"
   ]
  },
  {
   "cell_type": "code",
   "execution_count": null,
   "metadata": {},
   "outputs": [],
   "source": [
    "matrix = loadmat(filenames[9])\n",
    "frames = matrix['videoframes'].swapaxes(0,2)"
   ]
  },
  {
   "cell_type": "code",
   "execution_count": null,
   "metadata": {},
   "outputs": [],
   "source": [
    "fig, ax = plt.subplots()\n",
    "\n",
    "im = ax.imshow(frames[0], vmin=-3, vmax=3)\n",
    "\n",
    "def update(frame):\n",
    "    im.set_array(frame)\n",
    "\n",
    "animation = FuncAnimation(fig, update, frames=frames, interval=20)\n"
   ]
  }
 ],
 "metadata": {
  "kernelspec": {
   "display_name": "Python 3",
   "language": "python",
   "name": "python3"
  },
  "language_info": {
   "codemirror_mode": {
    "name": "ipython",
    "version": 3
   },
   "file_extension": ".py",
   "mimetype": "text/x-python",
   "name": "python",
   "nbconvert_exporter": "python",
   "pygments_lexer": "ipython3"
  }
 },
 "nbformat": 4,
 "nbformat_minor": 2
}
