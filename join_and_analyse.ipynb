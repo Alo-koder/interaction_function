{
 "cells": [
  {
   "cell_type": "code",
   "execution_count": null,
   "metadata": {},
   "outputs": [],
   "source": [
    "from matplotlib import pyplot as plt\n",
    "import numpy as np\n",
    "import pandas as pd\n",
    "import matplotlib as mpl\n",
    "from scipy import signal\n",
    "from scipy.interpolate import CubicSpline\n",
    "import glob"
   ]
  },
  {
   "cell_type": "code",
   "execution_count": null,
   "metadata": {},
   "outputs": [],
   "source": [
    "%matplotlib qt"
   ]
  },
  {
   "cell_type": "code",
   "execution_count": null,
   "metadata": {},
   "outputs": [],
   "source": [
    "EXPERIMENT = 'J049'"
   ]
  },
  {
   "cell_type": "code",
   "execution_count": null,
   "metadata": {},
   "outputs": [
    {
     "name": "stdout",
     "output_type": "stream",
     "text": [
      "T:/Team/Szewczyk/Juliane/J049\\J04906_0-1800_ts.txt\n",
      "T:/Team/Szewczyk/Juliane/J049\\J04906_1800-3600_ts.txt\n",
      "T:/Team/Szewczyk/Juliane/J049\\J04907_0-1800_ts.txt\n",
      "T:/Team/Szewczyk/Juliane/J049\\J04907_1800-3600_ts.txt\n",
      "T:/Team/Szewczyk/Juliane/J049\\J04908_0-1800_ts.txt\n",
      "T:/Team/Szewczyk/Juliane/J049\\J04908_1800-3600_ts.txt\n",
      "T:/Team/Szewczyk/Juliane/J049\\J04909_0-1800_ts.txt\n",
      "T:/Team/Szewczyk/Juliane/J049\\J04909_1800-3600_ts.txt\n",
      "T:/Team/Szewczyk/Juliane/J049\\J04910_0-1800_ts.txt\n",
      "T:/Team/Szewczyk/Juliane/J049\\J04910_1800-3600_ts.txt\n"
     ]
    }
   ],
   "source": [
    "data = pd.DataFrame({'HA': [], 'LA': []})\n",
    "for filename in glob.glob('T:/Team/Szewczyk/Juliane/J049/*.txt'):\n",
    "    print(filename)\n",
    "    data_partial = pd.read_csv(filename, names=['t', 'HA', 'LA'], sep='\\t')\n",
    "    data_partial = data_partial.drop('t', axis=1)\n",
    "    data = pd.concat([data, data_partial]).reset_index(drop=True)\n",
    "data['t'] = np.arange(data.HA.size)"
   ]
  },
  {
   "cell_type": "code",
   "execution_count": null,
   "metadata": {},
   "outputs": [
    {
     "data": {
      "text/html": [
       "<div>\n",
       "<style scoped>\n",
       "    .dataframe tbody tr th:only-of-type {\n",
       "        vertical-align: middle;\n",
       "    }\n",
       "\n",
       "    .dataframe tbody tr th {\n",
       "        vertical-align: top;\n",
       "    }\n",
       "\n",
       "    .dataframe thead th {\n",
       "        text-align: right;\n",
       "    }\n",
       "</style>\n",
       "<table border=\"1\" class=\"dataframe\">\n",
       "  <thead>\n",
       "    <tr style=\"text-align: right;\">\n",
       "      <th></th>\n",
       "      <th>HA</th>\n",
       "      <th>LA</th>\n",
       "      <th>t</th>\n",
       "    </tr>\n",
       "  </thead>\n",
       "  <tbody>\n",
       "    <tr>\n",
       "      <th>0</th>\n",
       "      <td>-0.524642</td>\n",
       "      <td>-0.862368</td>\n",
       "      <td>0</td>\n",
       "    </tr>\n",
       "    <tr>\n",
       "      <th>1</th>\n",
       "      <td>-0.276372</td>\n",
       "      <td>-0.897157</td>\n",
       "      <td>1</td>\n",
       "    </tr>\n",
       "    <tr>\n",
       "      <th>2</th>\n",
       "      <td>-0.085724</td>\n",
       "      <td>-0.939779</td>\n",
       "      <td>2</td>\n",
       "    </tr>\n",
       "    <tr>\n",
       "      <th>3</th>\n",
       "      <td>0.087276</td>\n",
       "      <td>-0.979031</td>\n",
       "      <td>3</td>\n",
       "    </tr>\n",
       "    <tr>\n",
       "      <th>4</th>\n",
       "      <td>0.241856</td>\n",
       "      <td>-1.016433</td>\n",
       "      <td>4</td>\n",
       "    </tr>\n",
       "    <tr>\n",
       "      <th>...</th>\n",
       "      <td>...</td>\n",
       "      <td>...</td>\n",
       "      <td>...</td>\n",
       "    </tr>\n",
       "    <tr>\n",
       "      <th>17985</th>\n",
       "      <td>-0.153203</td>\n",
       "      <td>-0.169093</td>\n",
       "      <td>17985</td>\n",
       "    </tr>\n",
       "    <tr>\n",
       "      <th>17986</th>\n",
       "      <td>-0.143994</td>\n",
       "      <td>-0.150863</td>\n",
       "      <td>17986</td>\n",
       "    </tr>\n",
       "    <tr>\n",
       "      <th>17987</th>\n",
       "      <td>-0.130932</td>\n",
       "      <td>-0.141042</td>\n",
       "      <td>17987</td>\n",
       "    </tr>\n",
       "    <tr>\n",
       "      <th>17988</th>\n",
       "      <td>-0.107966</td>\n",
       "      <td>-0.130426</td>\n",
       "      <td>17988</td>\n",
       "    </tr>\n",
       "    <tr>\n",
       "      <th>17989</th>\n",
       "      <td>-0.088352</td>\n",
       "      <td>-0.123044</td>\n",
       "      <td>17989</td>\n",
       "    </tr>\n",
       "  </tbody>\n",
       "</table>\n",
       "<p>17990 rows × 3 columns</p>\n",
       "</div>"
      ],
      "text/plain": [
       "             HA        LA      t\n",
       "0     -0.524642 -0.862368      0\n",
       "1     -0.276372 -0.897157      1\n",
       "2     -0.085724 -0.939779      2\n",
       "3      0.087276 -0.979031      3\n",
       "4      0.241856 -1.016433      4\n",
       "...         ...       ...    ...\n",
       "17985 -0.153203 -0.169093  17985\n",
       "17986 -0.143994 -0.150863  17986\n",
       "17987 -0.130932 -0.141042  17987\n",
       "17988 -0.107966 -0.130426  17988\n",
       "17989 -0.088352 -0.123044  17989\n",
       "\n",
       "[17990 rows x 3 columns]"
      ]
     },
     "execution_count": null,
     "metadata": {},
     "output_type": "execute_result"
    }
   ],
   "source": [
    "data"
   ]
  },
  {
   "cell_type": "code",
   "execution_count": null,
   "metadata": {},
   "outputs": [],
   "source": [
    "sos = signal.butter(20, 0.1, fs=1 ,output='sos')\n",
    "data['HA_filt'] = signal.sosfiltfilt(sos, data.HA)\n",
    "data['LA_filt'] = signal.sosfiltfilt(sos, data.LA)"
   ]
  },
  {
   "cell_type": "code",
   "execution_count": null,
   "metadata": {},
   "outputs": [],
   "source": [
    "cs1 = CubicSpline(data.t, data.HA_filt)\n",
    "cs2 = CubicSpline(data.t, data.LA_filt)\n",
    "new_time = np.arange(0, data.t.iloc[-1], 0.01)\n",
    "fit = pd.DataFrame({\n",
    "    't'     : new_time,\n",
    "    'HA'   : cs1(new_time),\n",
    "    'LA'   : cs2(new_time),\n",
    "})"
   ]
  },
  {
   "cell_type": "code",
   "execution_count": null,
   "metadata": {},
   "outputs": [],
   "source": [
    "peaksHA = signal.find_peaks(fit.HA[500:], height=0, distance=1000)[0]+500\n",
    "peaksLA = signal.find_peaks(fit.LA[500:], height=0, distance=1000)[0]+500"
   ]
  },
  {
   "cell_type": "code",
   "execution_count": null,
   "metadata": {},
   "outputs": [],
   "source": [
    "# peaksHA = np.delete(peaksHA, 41)"
   ]
  },
  {
   "cell_type": "code",
   "execution_count": null,
   "metadata": {},
   "outputs": [
    {
     "data": {
      "text/plain": [
       "<matplotlib.collections.PathCollection at 0x1278d1b08c0>"
      ]
     },
     "execution_count": null,
     "metadata": {},
     "output_type": "execute_result"
    }
   ],
   "source": [
    "plt.figure()\n",
    "plt.plot(fit.t, fit.HA, label = 'electrode 1')\n",
    "plt.plot(fit.t, fit.LA, label = 'electrode 2')\n",
    "plt.title(f'{EXPERIMENT} waveforms')\n",
    "plt.xlabel('t [s]')\n",
    "plt.ylabel(r'$\\xi$')\n",
    "# plt.legend()\n",
    "plt.scatter(fit.t[peaksLA], fit.LA[peaksLA], c='r', marker='x')\n",
    "plt.scatter(fit.t[peaksHA], fit.HA[peaksHA], c='g', marker='x')"
   ]
  },
  {
   "cell_type": "code",
   "execution_count": null,
   "metadata": {},
   "outputs": [
    {
     "data": {
      "text/plain": [
       "Text(0, 0.5, 'Period [s]')"
      ]
     },
     "execution_count": null,
     "metadata": {},
     "output_type": "execute_result"
    }
   ],
   "source": [
    "fig, axs = plt.subplots(2, sharex=True)\n",
    "axs[0].plot(fit.t, fit.HA, label = 'HA')\n",
    "axs[0].plot(fit.t, fit.LA, label = 'LA')\n",
    "fig.suptitle(f'{EXPERIMENT} waveforms')\n",
    "axs[0].set_ylabel(r'$\\xi$')\n",
    "# plt.legend()\n",
    "# axs[0].scatter(fit.t[peaksLA], fit.LA[peaksLA], c='r', marker='x')\n",
    "axs[1].plot(peaksHA[1:]/100, 2*np.diff(peaksHA)/100)\n",
    "axs[1].plot(peaksLA[1:]/100, np.diff(peaksLA)/100)\n",
    "axs[1].plot(peaksHA[1:]/100, np.diff(peaksHA)/100)\n",
    "axs[1].set_xlabel(\"t [s]\")\n",
    "axs[1].set_ylabel(\"Period [s]\")\n",
    "# axs[1].plot(peaksHA[1::2]/100, np.diff(peaksHA)[::2]/100)\n",
    "# axs[1].plot(peaksHA[2::2]/100, np.diff(peaksHA)[1::2]/100)"
   ]
  },
  {
   "cell_type": "code",
   "execution_count": null,
   "metadata": {},
   "outputs": [],
   "source": [
    "first_HA_peak_to_left = np.searchsorted(peaksHA, peaksLA, side=\"left\")\n",
    "first_HA_peak_to_right = np.searchsorted(peaksHA, peaksLA, side=\"right\")\n",
    "peak_distances = (peaksHA[first_HA_peak_to_left] - peaksLA)/np.diff(peaksHA, append=0)[first_HA_peak_to_left]"
   ]
  },
  {
   "cell_type": "code",
   "execution_count": null,
   "metadata": {},
   "outputs": [
    {
     "data": {
      "text/plain": [
       "Text(0, 0.5, 'Phase difference (units of $\\\\mathregular{T_{HA}}$)')"
      ]
     },
     "execution_count": null,
     "metadata": {},
     "output_type": "execute_result"
    }
   ],
   "source": [
    "fig, axs = plt.subplots(2, sharex=True)\n",
    "axs[0].plot(fit.t, fit.HA, label = 'HA')\n",
    "axs[0].scatter(fit.t[peaksHA], fit.HA[peaksHA], c='r', marker='x')\n",
    "axs[0].plot(fit.t, fit.LA, label = 'LA')\n",
    "axs[0].scatter(fit.t[peaksLA], fit.LA[peaksLA], c='r', marker='x')\n",
    "fig.suptitle(f'{EXPERIMENT} waveforms')\n",
    "axs[0].set_ylabel(r'$\\xi$')\n",
    "\n",
    "# axs[1].plot(peaksLA[:220]/100, (peaksHA[:440:2]-peaksLA[:220])/np.diff(peaksHA[:440:2], prepend=0))\n",
    "axs[1].scatter(peaksLA/100, peak_distances, marker = '+', color = 'green')\n",
    "axs[1].set_ylabel(r\"Phase difference (units of $\\mathregular{T_{HA}}$)\")"
   ]
  },
  {
   "cell_type": "code",
   "execution_count": null,
   "metadata": {},
   "outputs": [],
   "source": [
    "plt.figure()\n",
    "plt.plot(peaksLA[:200]/100, (peaksHA[:400:2]-peaksLA[:200])/np.diff(peaksHA[:400:2], prepend=0))\n",
    "for i in [-0.5, 0.5, 4.5, 14, 15]:\n",
    "    plt.axhline(i, ls='--', c='gray')"
   ]
  },
  {
   "cell_type": "code",
   "execution_count": null,
   "metadata": {},
   "outputs": [],
   "source": [
    "csp1 = CubicSpline(peaksHA/100, range(peaksHA.shape[0]))\n",
    "fit['phase1'] = csp1(fit.t)\n",
    "csp2 = CubicSpline(peaksLA/100, range(peaksLA.shape[0]))\n",
    "fit['phase2'] = csp2(fit.t)"
   ]
  },
  {
   "cell_type": "code",
   "execution_count": null,
   "metadata": {},
   "outputs": [],
   "source": [
    "plt.figure()\n",
    "plt.title(f'Phase difference {EXPERIMENT}')\n",
    "plt.xlabel('t [s]')\n",
    "plt.ylabel(r'$\\Delta \\phi$')\n",
    "plt.axhline(0, ls='--')\n",
    "plt.plot(fit.t, fit.phase1 - fit.phase2)"
   ]
  },
  {
   "cell_type": "code",
   "execution_count": null,
   "metadata": {},
   "outputs": [],
   "source": [
    "plt.figure()\n",
    "plt.plot(fit.phase1.iloc[peaksLA]%1)"
   ]
  },
  {
   "cell_type": "code",
   "execution_count": null,
   "metadata": {},
   "outputs": [],
   "source": [
    "plt.plot(fit.t, fit.HA)\n",
    "plt.plot(fit.t, fit.phase1%1*5+70)"
   ]
  },
  {
   "cell_type": "code",
   "execution_count": null,
   "metadata": {},
   "outputs": [],
   "source": [
    "plt.figure()\n",
    "plt.title(f'LA synchronisation {EXPERIMENT}')\n",
    "\n",
    "plt.xlabel('t [s]')\n",
    "plt.ylabel('T [s]')\n",
    "\n",
    "\n",
    "plt.plot(fit.t[peaksHA][1:], np.diff(fit.t[peaksHA]), label='electrode 1')\n",
    "plt.plot(fit.t[peaksLA][1:], np.diff(fit.t[peaksLA]), label='electrode 2')\n",
    "plt.legend()"
   ]
  }
 ],
 "metadata": {
  "kernelspec": {
   "display_name": "Python 3",
   "language": "python",
   "name": "python3"
  },
  "language_info": {
   "codemirror_mode": {
    "name": "ipython",
    "version": 3
   },
   "file_extension": ".py",
   "mimetype": "text/x-python",
   "name": "python",
   "nbconvert_exporter": "python",
   "pygments_lexer": "ipython3"
  }
 },
 "nbformat": 4,
 "nbformat_minor": 2
}
