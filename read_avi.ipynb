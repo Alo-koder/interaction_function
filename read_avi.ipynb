{
 "cells": [
  {
   "cell_type": "code",
   "execution_count": null,
   "metadata": {},
   "outputs": [],
   "source": [
    "import numpy as np\n",
    "import cv2 as cv\n",
    "import matplotlib as mpl\n",
    "from matplotlib import pyplot as plt\n",
    "import pandas as pd\n",
    "import csv"
   ]
  },
  {
   "cell_type": "code",
   "execution_count": null,
   "metadata": {},
   "outputs": [],
   "source": [
    "filename = 'T:/Team/Szewczyk/Data/2024-09-12/A04703.avi'"
   ]
  },
  {
   "cell_type": "code",
   "execution_count": null,
   "metadata": {},
   "outputs": [],
   "source": [
    "video = cv.VideoCapture(filename)\n",
    "if not video.isOpened():\n",
    "    print(\"Error opening video file\")"
   ]
  },
  {
   "cell_type": "code",
   "execution_count": null,
   "metadata": {},
   "outputs": [],
   "source": [
    "if not video.isOpened():\n",
    "    print(\"Error opening video file\")\n",
    "else:\n",
    "    # Get video properties\n",
    "    fps = video.get(cv.CAP_PROP_FPS)\n",
    "    frame_count = int(video.get(cv.CAP_PROP_FRAME_COUNT))\n",
    "    width = int(video.get(cv.CAP_PROP_FRAME_WIDTH))\n",
    "    height = int(video.get(cv.CAP_PROP_FRAME_HEIGHT))\n",
    "    \n",
    "    print(f\"FPS: {fps}\")\n",
    "    print(f\"Frame Count: {frame_count}\")\n",
    "    print(f\"Width: {width}\")\n",
    "    print(f\"Height: {height}\")\n",
    "\n",
    "# video.release()"
   ]
  },
  {
   "cell_type": "code",
   "execution_count": null,
   "metadata": {},
   "outputs": [],
   "source": [
    "frames = []\n",
    "while video.isOpened():\n",
    "    ret, frame = video.read()\n",
    " \n",
    "    # if frame is read correctly ret is True\n",
    "    if not ret:\n",
    "        print(\"Can't receive frame (stream end?). Exiting ...\")\n",
    "        break\n",
    "    frames.append(frame)\n",
    "    \n",
    " \n",
    "video.release()"
   ]
  },
  {
   "cell_type": "code",
   "execution_count": null,
   "metadata": {},
   "outputs": [],
   "source": [
    "array = np.array(frames)"
   ]
  },
  {
   "cell_type": "code",
   "execution_count": null,
   "metadata": {},
   "outputs": [],
   "source": [
    "array = array[:,:,:,0]"
   ]
  },
  {
   "cell_type": "code",
   "execution_count": null,
   "metadata": {},
   "outputs": [],
   "source": [
    "el1_rect = mpl.patches.Rectangle((0, 0), 426, 100, fc='none', color='r')\n",
    "el2_rect = mpl.patches.Rectangle((0, 231), 426, 100, fc='none', color='b')\n",
    "fig, ax = plt.subplots()\n",
    "ax.imshow(array[500])\n",
    "ax.add_patch(el1_rect)\n",
    "ax.add_patch(el2_rect)"
   ]
  },
  {
   "cell_type": "code",
   "execution_count": null,
   "metadata": {},
   "outputs": [],
   "source": [
    "el1 = array[:, 0:100, :]\n",
    "el2 = array[:, 230:330, :]"
   ]
  },
  {
   "cell_type": "code",
   "execution_count": null,
   "metadata": {},
   "outputs": [],
   "source": [
    "plt.figure()\n",
    "plt.plot(np.mean(el1, axis=(1,2)))\n",
    "plt.plot(np.mean(el2, axis=(1,2)))"
   ]
  },
  {
   "cell_type": "code",
   "execution_count": null,
   "metadata": {},
   "outputs": [],
   "source": [
    "df = pd.DataFrame({\n",
    "    't'     :   np.arange(0, 2*el1.shape[0], 2),\n",
    "    'el1'   :   np.mean(el1, axis=(1,2)),\n",
    "    'el2'   :   np.mean(el2, axis=(1,2)),\n",
    "    })"
   ]
  },
  {
   "cell_type": "code",
   "execution_count": null,
   "metadata": {},
   "outputs": [],
   "source": [
    "df.to_csv(filename[:-4]+'_two_electrodes.dat', index=False)"
   ]
  }
 ],
 "metadata": {
  "kernelspec": {
   "display_name": "Python 3",
   "language": "python",
   "name": "python3"
  },
  "language_info": {
   "codemirror_mode": {
    "name": "ipython",
    "version": 3
   },
   "file_extension": ".py",
   "mimetype": "text/x-python",
   "name": "python",
   "nbconvert_exporter": "python",
   "pygments_lexer": "ipython3"
  }
 },
 "nbformat": 4,
 "nbformat_minor": 2
}
