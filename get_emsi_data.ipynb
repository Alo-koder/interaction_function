{
 "cells": [
  {
   "cell_type": "code",
   "execution_count": null,
   "metadata": {},
   "outputs": [],
   "source": [
    "from scipy.io import loadmat\n",
    "import pandas as pd\n",
    "import numpy as np\n",
    "from matplotlib import pyplot as plt\n",
    "import matplotlib as mpl\n",
    "import os\n",
    "import munch"
   ]
  },
  {
   "cell_type": "code",
   "execution_count": null,
   "metadata": {},
   "outputs": [],
   "source": [
    "dat_dirname = 'T:/Team/Szewczyk/Juliane/Alek J053'"
   ]
  },
  {
   "cell_type": "code",
   "execution_count": null,
   "metadata": {},
   "outputs": [],
   "source": [
    "filenames = [dat_dirname+'/'+x for x in os.listdir(dat_dirname) if x[-3:] == 'mat']"
   ]
  },
  {
   "cell_type": "code",
   "execution_count": null,
   "metadata": {},
   "outputs": [],
   "source": [
    "matrix = loadmat(filenames[0])"
   ]
  },
  {
   "cell_type": "code",
   "execution_count": null,
   "metadata": {},
   "outputs": [],
   "source": [
    "frames = matrix['videoframes'].swapaxes(0,2)"
   ]
  },
  {
   "cell_type": "code",
   "execution_count": null,
   "metadata": {},
   "outputs": [],
   "source": [
    "x1min = 50\n",
    "x1max = 230\n",
    "y1min = 60\n",
    "y1max = 200\n",
    "x2min = 45\n",
    "x2max = 225\n",
    "y2min = 430\n",
    "y2max = 570"
   ]
  },
  {
   "cell_type": "code",
   "execution_count": null,
   "metadata": {},
   "outputs": [],
   "source": [
    "fig, ax = plt.subplots()\n",
    "ax.imshow(frames[800], vmin=-10, vmax=+10)\n",
    "el1_rect = mpl.patches.Rectangle((x1min, y1min), x1max-x1min, y1max-y1min, fc='none', color='r')\n",
    "el2_rect = mpl.patches.Rectangle((x2min, y2min), x2max-x2min, y2max-y2min, fc='none', color='r')\n",
    "ax.add_patch(el1_rect)\n",
    "ax.add_patch(el2_rect)"
   ]
  },
  {
   "cell_type": "code",
   "execution_count": null,
   "metadata": {},
   "outputs": [],
   "source": [
    "el1 = frames[:,y1min:y1max+1,x1min:x1max+1]\n",
    "el2 = frames[:,y2min:y2max+1,x2min:x2max+1]"
   ]
  },
  {
   "cell_type": "code",
   "execution_count": null,
   "metadata": {},
   "outputs": [],
   "source": [
    "emsi1 = np.mean(el1, axis=(1,2))\n",
    "emsi2 = np.mean(el2, axis=(1,2))"
   ]
  },
  {
   "cell_type": "code",
   "execution_count": null,
   "metadata": {},
   "outputs": [],
   "source": [
    "plt.plot(emsi1)\n",
    "plt.plot(emsi2)"
   ]
  }
 ],
 "metadata": {
  "kernelspec": {
   "display_name": "Python 3",
   "language": "python",
   "name": "python3"
  },
  "language_info": {
   "codemirror_mode": {
    "name": "ipython",
    "version": 3
   },
   "file_extension": ".py",
   "mimetype": "text/x-python",
   "name": "python",
   "nbconvert_exporter": "python",
   "pygments_lexer": "ipython3"
  }
 },
 "nbformat": 4,
 "nbformat_minor": 2
}
