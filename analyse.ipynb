{
 "cells": [
  {
   "cell_type": "code",
   "execution_count": null,
   "metadata": {},
   "outputs": [],
   "source": [
    "from matplotlib import pyplot as plt\n",
    "import numpy as np\n",
    "import pandas as pd\n",
    "import matplotlib as mpl\n",
    "from scipy import signal\n",
    "from scipy.interpolate import CubicSpline"
   ]
  },
  {
   "cell_type": "code",
   "execution_count": null,
   "metadata": {},
   "outputs": [],
   "source": [
    "%matplotlib qt"
   ]
  },
  {
   "cell_type": "code",
   "execution_count": null,
   "metadata": {},
   "outputs": [],
   "source": [
    "EXPERIMENT = 'A04703'"
   ]
  },
  {
   "cell_type": "code",
   "execution_count": null,
   "metadata": {},
   "outputs": [],
   "source": [
    "data = pd.read_csv(f'T:/Team/Szewczyk/Data/2024-09-12/{EXPERIMENT}_two_electrodes.dat')"
   ]
  },
  {
   "cell_type": "code",
   "execution_count": null,
   "metadata": {},
   "outputs": [],
   "source": [
    "EXPERIMENT = \"HALA\""
   ]
  },
  {
   "cell_type": "code",
   "execution_count": null,
   "metadata": {},
   "outputs": [],
   "source": [
    "data = pd.read_csv(f\"{EXPERIMENT}.dat\")"
   ]
  },
  {
   "cell_type": "code",
   "execution_count": null,
   "metadata": {},
   "outputs": [],
   "source": [
    "data = pd.read_csv('T:/Team/Szewczyk/Juliane/J049/J04907_0-1800_ts.txt', names=['t', 'el1', 'el2'], sep='\\t')"
   ]
  },
  {
   "cell_type": "code",
   "execution_count": null,
   "metadata": {},
   "outputs": [],
   "source": [
    "data"
   ]
  },
  {
   "cell_type": "code",
   "execution_count": null,
   "metadata": {},
   "outputs": [],
   "source": [
    "sos = signal.butter(20, 0.1, fs=1 ,output='sos')\n",
    "data['el1_filt'] = signal.sosfiltfilt(sos, data.el1)\n",
    "data['el2_filt'] = signal.sosfiltfilt(sos, data.el2)"
   ]
  },
  {
   "cell_type": "code",
   "execution_count": null,
   "metadata": {},
   "outputs": [],
   "source": [
    "cs1 = CubicSpline(data.t, data.el1_filt)\n",
    "cs2 = CubicSpline(data.t, data.el2_filt)\n",
    "new_time = np.arange(0, data.t.iloc[-1], 0.01)\n",
    "fit = pd.DataFrame({\n",
    "    't'     : new_time,\n",
    "    'el1'   : cs1(new_time),\n",
    "    'el2'   : cs2(new_time),\n",
    "})"
   ]
  },
  {
   "cell_type": "code",
   "execution_count": null,
   "metadata": {},
   "outputs": [],
   "source": [
    "peaks1 = signal.find_peaks(fit.el1[500:], distance=500)[0]+500\n",
    "peaks2 = signal.find_peaks(fit.el2[500:], height=0, distance=5000)[0]+500"
   ]
  },
  {
   "cell_type": "code",
   "execution_count": null,
   "metadata": {},
   "outputs": [],
   "source": [
    "# peaks1 = np.delete(peaks1, 41)"
   ]
  },
  {
   "cell_type": "code",
   "execution_count": null,
   "metadata": {},
   "outputs": [],
   "source": [
    "plt.figure()\n",
    "plt.plot(fit.t, fit.el1, label = 'electrode 1')\n",
    "plt.plot(fit.t, fit.el2, label = 'electrode 2')\n",
    "plt.title(f'{EXPERIMENT} waveforms')\n",
    "plt.xlabel('t [s]')\n",
    "plt.ylabel(r'$\\xi$')\n",
    "# plt.legend()\n",
    "plt.scatter(fit.t[peaks2], fit.el2[peaks2], c='r', marker='x')\n",
    "plt.scatter(fit.t[peaks1], fit.el1[peaks1], c='g', marker='x')"
   ]
  },
  {
   "cell_type": "code",
   "execution_count": null,
   "metadata": {},
   "outputs": [],
   "source": [
    "fig, axs = plt.subplots(2, sharex=True)\n",
    "# plt.plot(fit.t, fit.el1, label = 'electrode 1')\n",
    "axs[0].plot(fit.t, fit.el2, label = 'electrode 2')\n",
    "fig.suptitle(f'{EXPERIMENT} waveforms')\n",
    "axs[0].set_ylabel(r'$\\xi$')\n",
    "# plt.legend()\n",
    "# axs[0].scatter(fit.t[peaks2], fit.el2[peaks2], c='r', marker='x')\n",
    "axs[1].scatter(peaks2[1:]/100, np.diff(peaks2)/100, c='green', marker='x')\n",
    "axs[1].plot(peaks1[1:]/100, 2*np.diff(peaks1)/100)\n",
    "axs[1].set_xlabel(\"t [s]\")\n",
    "axs[1].set_ylabel(\"Period [s]\")\n",
    "# axs[1].plot(peaks1[1::2]/100, np.diff(peaks1)[::2]/100)\n",
    "# axs[1].plot(peaks1[2::2]/100, np.diff(peaks1)[1::2]/100)"
   ]
  },
  {
   "cell_type": "code",
   "execution_count": null,
   "metadata": {},
   "outputs": [],
   "source": [
    "plt.figure()\n",
    "plt.plot(peaks2/100, (peaks1[2::2]-peaks2)/np.diff(peaks1[2::2], prepend=0))\n",
    "# for i in range(-3, 1):\n",
    "#     plt.axhline(i, ls='--')"
   ]
  },
  {
   "cell_type": "code",
   "execution_count": null,
   "metadata": {},
   "outputs": [],
   "source": [
    "plt.figure()\n",
    "plt.plot(peaks2/100, (peaks1[2::2]-peaks2)/np.diff(peaks1[2::2], prepend=0))\n",
    "# for i in range(-3, 1):\n",
    "#     plt.axhline(i, ls='--')"
   ]
  },
  {
   "cell_type": "code",
   "execution_count": null,
   "metadata": {},
   "outputs": [],
   "source": [
    "csp1 = CubicSpline(peaks1/100, range(peaks1.shape[0]))\n",
    "fit['phase1'] = csp1(fit.t)\n",
    "csp2 = CubicSpline(peaks2/100, range(peaks2.shape[0]))\n",
    "fit['phase2'] = csp2(fit.t)"
   ]
  },
  {
   "cell_type": "code",
   "execution_count": null,
   "metadata": {},
   "outputs": [],
   "source": [
    "plt.figure()\n",
    "plt.title(f'Phase difference {EXPERIMENT}')\n",
    "plt.xlabel('t [s]')\n",
    "plt.ylabel(r'$\\Delta \\phi$')\n",
    "plt.axhline(0, ls='--')\n",
    "plt.plot(fit.t, fit.phase1 - fit.phase2)"
   ]
  },
  {
   "cell_type": "code",
   "execution_count": null,
   "metadata": {},
   "outputs": [],
   "source": [
    "plt.figure()\n",
    "plt.plot(fit.phase1.iloc[peaks2]%1)"
   ]
  },
  {
   "cell_type": "code",
   "execution_count": null,
   "metadata": {},
   "outputs": [],
   "source": [
    "plt.plot(fit.t, fit.el1)\n",
    "plt.plot(fit.t, fit.phase1%1*5+70)"
   ]
  },
  {
   "cell_type": "code",
   "execution_count": null,
   "metadata": {},
   "outputs": [],
   "source": [
    "plt.figure()\n",
    "plt.title(f'LA synchronisation {EXPERIMENT}')\n",
    "\n",
    "plt.xlabel('t [s]')\n",
    "plt.ylabel('T [s]')\n",
    "\n",
    "\n",
    "plt.plot(fit.t[peaks1][1:], np.diff(fit.t[peaks1]), label='electrode 1')\n",
    "plt.plot(fit.t[peaks2][1:], np.diff(fit.t[peaks2]), label='electrode 2')\n",
    "plt.legend()"
   ]
  }
 ],
 "metadata": {
  "kernelspec": {
   "display_name": "Python 3",
   "language": "python",
   "name": "python3"
  },
  "language_info": {
   "codemirror_mode": {
    "name": "ipython",
    "version": 3
   },
   "file_extension": ".py",
   "mimetype": "text/x-python",
   "name": "python",
   "nbconvert_exporter": "python",
   "pygments_lexer": "ipython3"
  }
 },
 "nbformat": 4,
 "nbformat_minor": 2
}
